{
 "cells": [
  {
   "cell_type": "code",
   "execution_count": 5,
   "metadata": {},
   "outputs": [],
   "source": [
    "import pandas as pd\n",
    "import geopandas as gpd\n",
    "import numpy as np\n",
    "import time\n",
    "from shapely.geometry import MultiPolygon\n",
    "import pickle\n"
   ]
  },
  {
   "cell_type": "code",
   "execution_count": 7,
   "metadata": {},
   "outputs": [],
   "source": [
    "file = 'local_pkl/about_df_dict_by_map_2025-02-07.pkl'"
   ]
  },
  {
   "cell_type": "code",
   "execution_count": 8,
   "metadata": {},
   "outputs": [
    {
     "ename": "TypeError",
     "evalue": "file must have 'read' and 'readline' attributes",
     "output_type": "error",
     "traceback": [
      "\u001b[0;31m---------------------------------------------------------------------------\u001b[0m",
      "\u001b[0;31mTypeError\u001b[0m                                 Traceback (most recent call last)",
      "Cell \u001b[0;32mIn[8], line 1\u001b[0m\n\u001b[0;32m----> 1\u001b[0m df \u001b[38;5;241m=\u001b[39m \u001b[43mpickle\u001b[49m\u001b[38;5;241;43m.\u001b[39;49m\u001b[43mload\u001b[49m\u001b[43m(\u001b[49m\u001b[43mfile\u001b[49m\u001b[43m)\u001b[49m\n",
      "\u001b[0;31mTypeError\u001b[0m: file must have 'read' and 'readline' attributes"
     ]
    }
   ],
   "source": [
    "df = pickle.load(file)"
   ]
  },
  {
   "cell_type": "code",
   "execution_count": 2,
   "metadata": {},
   "outputs": [
    {
     "name": "stdout",
     "output_type": "stream",
     "text": [
      "{'Bonaire, Sint Eustatius, and Saba', 'Saint Lucia', 'Turks and Caicos Islands', 'Falkland Islands', 'Dominica', 'Saint Kitts and Nevis', 'Antigua and Barbuda', 'Saint Vincent and the Grenadines', 'Bouvet Island', 'Sint Maarten (Dutch part)', 'Curaçao', 'Montserrat', 'Saint Martin (French part)', 'Virgin Islands (British)', 'Martinique', 'Anguilla', 'Cayman Islands', 'Saint Barthélemy', 'Aruba', 'South Georgia and the South Sandwich Islands'}\n"
     ]
    }
   ],
   "source": [
    "\n",
    "latam_dt = [\n",
    "    \"Argentina\",\n",
    "    \"Bahamas\",\n",
    "    \"Barbados\",\n",
    "    \"Belize\",\n",
    "    \"Bolivia\",\n",
    "    \"Brazil\",\n",
    "    \"Chile\",\n",
    "    \"Colombia\",\n",
    "    \"Costa Rica\",\n",
    "    \"Cuba\",\n",
    "    \"Dominican Republic\",\n",
    "    \"Ecuador\",\n",
    "    \"El Salvador\",\n",
    "    \"French Guiana\",\n",
    "    \"Grenada\",\n",
    "    \"Guadeloupe\",\n",
    "    \"Guatemala\",\n",
    "    \"Guyana\",\n",
    "    \"Haiti\",\n",
    "    \"Honduras\",\n",
    "    \"Jamaica\",\n",
    "    \"Mexico\",\n",
    "    \"Nicaragua\",\n",
    "    \"Panama\",\n",
    "    \"Paraguay\",\n",
    "    \"Peru\",\n",
    "    \"Suriname\",\n",
    "    \"Trinidad and Tobago\",\n",
    "    \"Uruguay\",\n",
    "    \"Venezuela\"\n",
    "  ]\n",
    "\n",
    "latam_kg = [\n",
    "    \"Anguilla\",\n",
    "    \"Antigua and Barbuda\",\n",
    "    \"Argentina\",\n",
    "    \"Aruba\",\n",
    "    \"Bahamas\",\n",
    "    \"Barbados\",\n",
    "    \"Belize\",\n",
    "    \"Bolivia\",\n",
    "    \"Bonaire, Sint Eustatius, and Saba\",\n",
    "    \"Bouvet Island\",\n",
    "    \"Brazil\",\n",
    "    \"Cayman Islands\",\n",
    "    \"Chile\",\n",
    "    \"Colombia\",\n",
    "    \"Costa Rica\",\n",
    "    \"Cuba\",\n",
    "    \"Curaçao\",\n",
    "    \"Dominica\",\n",
    "    \"Dominican Republic\",\n",
    "    \"Ecuador\",\n",
    "    \"El Salvador\",\n",
    "    \"Falkland Islands\",\n",
    "    \"French Guiana\",\n",
    "    \"Grenada\",\n",
    "    \"Guadeloupe\",\n",
    "    \"Guatemala\",\n",
    "    \"Guyana\",\n",
    "    \"Haiti\",\n",
    "    \"Honduras\",\n",
    "    \"Jamaica\",\n",
    "    \"Martinique\",\n",
    "    \"Mexico\",\n",
    "    \"Montserrat\",\n",
    "    \"Nicaragua\",\n",
    "    \"Panama\",\n",
    "    \"Paraguay\",\n",
    "    \"Peru\",\n",
    "    \"Saint Barthélemy\",\n",
    "    \"Saint Kitts and Nevis\",\n",
    "    \"Saint Lucia\",\n",
    "    \"Saint Martin (French part)\",\n",
    "    \"Saint Vincent and the Grenadines\",\n",
    "    \"Sint Maarten (Dutch part)\",\n",
    "    \"South Georgia and the South Sandwich Islands\",\n",
    "    \"Suriname\",\n",
    "    \"Trinidad and Tobago\",\n",
    "    \"Turks and Caicos Islands\",\n",
    "    \"Uruguay\",\n",
    "    \"Venezuela\",\n",
    "    \"Virgin Islands (British)\"\n",
    "]\n",
    "# find items in latam_kg that are not in latam_dt\n",
    "missing_latam = set(latam_kg) - set(latam_dt)\n",
    "print(missing_latam)"
   ]
  },
  {
   "cell_type": "code",
   "execution_count": 4,
   "metadata": {},
   "outputs": [
    {
     "name": "stdout",
     "output_type": "stream",
     "text": [
      "{'Bonaire, Sint Eustatius, and Saba', 'Saint Lucia', 'Turks and Caicos Islands', 'Falkland Islands', 'Dominica', 'Saint Kitts and Nevis', 'Antigua and Barbuda', 'Saint Vincent and the Grenadines', 'Bouvet Island', 'Sint Maarten (Dutch part)', 'Curaçao', 'Montserrat', 'Saint Martin (French part)', 'Virgin Islands (British)', 'Martinique', 'Anguilla', 'Cayman Islands', 'Saint Barthélemy', 'Aruba', 'South Georgia and the South Sandwich Islands'}\n"
     ]
    }
   ],
   "source": [
    "latam_countries = [\n",
    "    'Argentina', 'Bahamas', 'Barbados', 'Belize', 'Bolivia',\n",
    "    'Brazil', 'Chile', 'Colombia', 'Costa Rica', 'Cuba',\n",
    "    'Dominican Republic', 'Ecuador', 'El Salvador', 'French Guiana', 'Grenada',\n",
    "    'Guadeloupe', 'Guatemala', 'Guyana', 'Haiti', 'Honduras', \n",
    "    'Jamaica', 'Mexico', 'Nicaragua', 'Panama', 'Paraguay',\n",
    "    'Peru', 'Suriname', 'Trinidad and Tobago', 'Uruguay', 'Venezuela'\n",
    "]\n",
    "\n",
    "missing_latam = set(latam_kg) - set(latam_countries)\n",
    "print(missing_latam)"
   ]
  },
  {
   "cell_type": "code",
   "execution_count": null,
   "metadata": {},
   "outputs": [
    {
     "name": "stdout",
     "output_type": "stream",
     "text": [
      "set()\n"
     ]
    }
   ],
   "source": [
    "latam_gi = [\"Anguilla\", \"Antigua and Barbuda\", \"Argentina\", \"Aruba\", \"Bahamas\", \"Barbados\", \"Belize\", \"Bermuda\", \n",
    "    \"Bolivia\", \"Bonaire, Sint Eustatius, and Saba\", \"Bouvet Island\", \"Brazil\", \"Canada\", \"Cayman Islands\", \n",
    "    \"Chile\", \"Colombia\", \"Costa Rica\", \"Cuba\", \"Curaçao\", \"Dominica\", \"Dominican Republic\", \"Ecuador\", \n",
    "    \"El Salvador\", \"Falkland Islands\", \"French Guiana\", \"Greenland\", \"Grenada\", \"Guadeloupe\", \"Guatemala\", \n",
    "    \"Guyana\", \"Haiti\", \"Honduras\", \"Jamaica\", \"Martinique\", \"Mexico\", \"Montserrat\", \"Nicaragua\", \"Panama\", \n",
    "    \"Paraguay\", \"Peru\", \"Puerto Rico\", \"Saint Barthélemy\", \"Saint Kitts and Nevis\", \"Saint Lucia\", \n",
    "    \"Saint Martin (French part)\", \"Saint Pierre and Miquelon\", \"Saint Vincent and the Grenadines\", \n",
    "    \"Sint Maarten (Dutch part)\", \"South Georgia and the South Sandwich Islands\", \"Suriname\", \n",
    "    \"Trinidad and Tobago\", \"Turks and Caicos Islands\", \"United States\", \"Uruguay\", \"Venezuela\", \n",
    "    \"Virgin Islands (British)\", \"Virgin Islands (U.S.)\",]\n",
    "\n",
    "\n",
    "missing_latam = set(latam_kg) - set(latam_gi)\n",
    "print(missing_latam)"
   ]
  }
 ],
 "metadata": {
  "kernelspec": {
   "display_name": "venv",
   "language": "python",
   "name": "python3"
  },
  "language_info": {
   "codemirror_mode": {
    "name": "ipython",
    "version": 3
   },
   "file_extension": ".py",
   "mimetype": "text/x-python",
   "name": "python",
   "nbconvert_exporter": "python",
   "pygments_lexer": "ipython3",
   "version": "3.9.6"
  }
 },
 "nbformat": 4,
 "nbformat_minor": 2
}
